{
 "cells": [
  {
   "cell_type": "code",
   "execution_count": 1,
   "id": "initial_id",
   "metadata": {
    "ExecuteTime": {
     "end_time": "2024-09-30T02:43:46.517943Z",
     "start_time": "2024-09-30T02:43:46.513439Z"
    },
    "collapsed": true
   },
   "outputs": [
    {
     "name": "stdout",
     "output_type": "stream",
     "text": [
      "i=0\n",
      "x[0]=1\n",
      "m[0]=0.5\n",
      "b[0]=5\n",
      "np.array(x)=array([ 1, -1])\n",
      "y=array([5.5, 4.5])\n",
      "x=[1, -1]\n",
      "y2=5.5\n",
      "i=1\n",
      "x[1]=-1\n",
      "m[1]=0.25\n",
      "b[1]=10\n",
      "np.array(x)=array([ 1, -1])\n",
      "y=array([10.25,  9.75])\n",
      "x=[1, -1]\n",
      "y2=9.75\n"
     ]
    }
   ],
   "source": [
    "import numpy as np\n",
    "x = [1, -1]\n",
    "m = [0.5, 0.25]\n",
    "b = [5, 10]\n",
    "\n",
    "for i in range(len(x)):\n",
    "    print(f\"{i=}\")\n",
    "\n",
    "    print(f\"x[{i}]={x[i]}\")\n",
    "    print(f\"m[{i}]={m[i]}\")\n",
    "    print(f\"b[{i}]={b[i]}\")\n",
    "    y = m[i]* np.array(x) + b[i]\n",
    "    print(f\"{np.array(x)=}\")\n",
    "    print(f\"{y=}\")\n",
    "    \n",
    "    y2 = m[i]* x[i] + b[i]\n",
    "    print(f\"{x=}\")\n",
    "    print(f\"{y2=}\")\n",
    "    "
   ]
  },
  {
   "cell_type": "code",
   "execution_count": null,
   "id": "3340f47354ee4b95",
   "metadata": {},
   "outputs": [],
   "source": []
  }
 ],
 "metadata": {
  "kernelspec": {
   "display_name": "learning",
   "language": "python",
   "name": "python3"
  },
  "language_info": {
   "codemirror_mode": {
    "name": "ipython",
    "version": 3
   },
   "file_extension": ".py",
   "mimetype": "text/x-python",
   "name": "python",
   "nbconvert_exporter": "python",
   "pygments_lexer": "ipython3",
   "version": "3.12.7"
  }
 },
 "nbformat": 4,
 "nbformat_minor": 5
}
