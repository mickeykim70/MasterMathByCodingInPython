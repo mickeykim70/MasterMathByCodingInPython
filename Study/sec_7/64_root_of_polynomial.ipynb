{
 "cells": [
  {
   "cell_type": "code",
   "id": "initial_id",
   "metadata": {
    "collapsed": true,
    "ExecuteTime": {
     "end_time": "2024-10-01T05:59:31.606897Z",
     "start_time": "2024-10-01T05:59:31.016304Z"
    }
   },
   "source": [
    "import numpy as np\n",
    "import matplotlib.pyplot as plt\n",
    "from IPython.display import display, Math\n",
    "import sympy as sym"
   ],
   "outputs": [],
   "execution_count": 1
  },
  {
   "metadata": {
    "ExecuteTime": {
     "end_time": "2024-10-01T06:02:41.848971Z",
     "start_time": "2024-10-01T06:02:41.837353Z"
    }
   },
   "cell_type": "code",
   "source": [
    "# the polynomial:\n",
    "# 3x^2 + 2x -1 = 0\n",
    "\n",
    "# define coefficients\n",
    "coefs = [3, 2, -1]\n",
    "\n",
    "roots = np.roots(coefs)\n",
    "print(roots)"
   ],
   "id": "62cb1cf707187a0b",
   "outputs": [
    {
     "name": "stdout",
     "output_type": "stream",
     "text": [
      "[-1.          0.33333333]\n"
     ]
    }
   ],
   "execution_count": 2
  },
  {
   "metadata": {
    "ExecuteTime": {
     "end_time": "2024-10-01T06:10:14.139320Z",
     "start_time": "2024-10-01T06:10:14.122846Z"
    }
   },
   "cell_type": "code",
   "source": [
    "x = sym.symbols('x')\n",
    "\n",
    "pn = 3*x**2 + 2*x - 1\n",
    "\n",
    "for i in roots:\n",
    "    display(Math(f'At \\; x = {i} \\quad {sym.latex(pn)} = {pn.subs(x,i)}'))"
   ],
   "id": "9ccd672e54a1819a",
   "outputs": [
    {
     "data": {
      "text/plain": [
       "<IPython.core.display.Math object>"
      ],
      "text/latex": "$\\displaystyle At \\; x = -1.0 \\quad 3 x^{2} + 2 x - 1 = 0$"
     },
     "metadata": {},
     "output_type": "display_data"
    },
    {
     "data": {
      "text/plain": [
       "<IPython.core.display.Math object>"
      ],
      "text/latex": "$\\displaystyle At \\; x = 0.3333333333333333 \\quad 3 x^{2} + 2 x - 1 = -5.55111512312578E-17$"
     },
     "metadata": {},
     "output_type": "display_data"
    }
   ],
   "execution_count": 13
  },
  {
   "metadata": {},
   "cell_type": "markdown",
   "source": [
    "---\n",
    "#### Exercise\n"
   ],
   "id": "e20c79fd8f22118f"
  },
  {
   "metadata": {
    "ExecuteTime": {
     "end_time": "2024-10-01T06:17:05.643288Z",
     "start_time": "2024-10-01T06:17:05.637810Z"
    }
   },
   "cell_type": "code",
   "source": [
    "for i in range(1, 11):\n",
    "    coefs = np.arange(1, i+1)\n",
    "    print(f\"A degree {len(coefs)} polynomial has {len(coefs)-1} roots\")"
   ],
   "id": "488bbba148963f55",
   "outputs": [
    {
     "name": "stdout",
     "output_type": "stream",
     "text": [
      "A degree 1 polynomial has 0 roots\n",
      "A degree 2 polynomial has 1 roots\n",
      "A degree 3 polynomial has 2 roots\n",
      "A degree 4 polynomial has 3 roots\n",
      "A degree 5 polynomial has 4 roots\n",
      "A degree 6 polynomial has 5 roots\n",
      "A degree 7 polynomial has 6 roots\n",
      "A degree 8 polynomial has 7 roots\n",
      "A degree 9 polynomial has 8 roots\n",
      "A degree 10 polynomial has 9 roots\n"
     ]
    }
   ],
   "execution_count": 17
  },
  {
   "metadata": {},
   "cell_type": "code",
   "outputs": [],
   "execution_count": null,
   "source": "",
   "id": "d3737714d817190c"
  }
 ],
 "metadata": {
  "kernelspec": {
   "display_name": "Python 3",
   "language": "python",
   "name": "python3"
  },
  "language_info": {
   "codemirror_mode": {
    "name": "ipython",
    "version": 2
   },
   "file_extension": ".py",
   "mimetype": "text/x-python",
   "name": "python",
   "nbconvert_exporter": "python",
   "pygments_lexer": "ipython2",
   "version": "2.7.6"
  }
 },
 "nbformat": 4,
 "nbformat_minor": 5
}
