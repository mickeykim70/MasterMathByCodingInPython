{
 "cells": [
  {
   "cell_type": "code",
   "id": "initial_id",
   "metadata": {
    "collapsed": true,
    "ExecuteTime": {
     "end_time": "2024-10-01T06:51:03.175514Z",
     "start_time": "2024-10-01T06:51:03.171857Z"
    }
   },
   "source": [
    "import numpy as np\n",
    "import scipy as sp\n",
    "import numpy.lib.scimath as scimath\n",
    "from numpy import dtype\n"
   ],
   "outputs": [],
   "execution_count": 7
  },
  {
   "metadata": {
    "ExecuteTime": {
     "end_time": "2024-10-01T06:54:41.097809Z",
     "start_time": "2024-10-01T06:54:41.090924Z"
    }
   },
   "cell_type": "code",
   "source": [
    "a = 2\n",
    "b = 7\n",
    "c = 5\n",
    "\n",
    "quadeqP = ( -b + scimath.sqrt(b**2-4*a*c) )/(2*a)\n",
    "quadeqN = ( -b - scimath.sqrt(b**2-4*a*c) )/(2*a)\n",
    "\n",
    "print(quadeqP, quadeqN)"
   ],
   "id": "c064c751622854f5",
   "outputs": [
    {
     "name": "stdout",
     "output_type": "stream",
     "text": [
      "-1.0 -2.5\n"
     ]
    }
   ],
   "execution_count": 9
  },
  {
   "metadata": {},
   "cell_type": "markdown",
   "source": [
    "---\n",
    "#### Exercise:<br>\n",
    "Compute quadratic eq for:<br>\n",
    "> a = 1<br>\n",
    "> b = { -5, -4, ... ,5 }<br>\n",
    "> c = { -2, -1, ... ,10 }<br>\n",
    "> \n",
    "and graph"
   ],
   "id": "562453102007c851"
  },
  {
   "metadata": {
    "ExecuteTime": {
     "end_time": "2024-10-01T08:21:41.009954Z",
     "start_time": "2024-10-01T08:21:40.637543Z"
    }
   },
   "cell_type": "code",
   "source": [
    "import numpy as np\n",
    "import matplotlib.pyplot as plt\n",
    "import numpy.lib.scimath as scimath\n",
    "import sympy as sym"
   ],
   "id": "1285ed28902a53a6",
   "outputs": [],
   "execution_count": 51
  },
  {
   "metadata": {
    "ExecuteTime": {
     "end_time": "2024-10-01T07:53:44.724176Z",
     "start_time": "2024-10-01T07:53:44.633053Z"
    }
   },
   "cell_type": "code",
   "source": [
    "# Define constants and variables\n",
    "a = 1\n",
    "b = np.arange(-5, 6, 1)\n",
    "c = np.arange(-2, 11, 1)\n",
    "\n",
    "def quadeq(a, b, c):\n",
    "    # initialize\n",
    "    out = np.zeros(2)\n",
    "    # compute\n",
    "    out[0] = (-b + scimath.sqrt(b**2-4*a*c)) / (2*a)\n",
    "    out[1] = (-b + scimath.sqrt(b**2-4*a*c)) / (2*a)\n",
    "    return out\n",
    "\n",
    "M = np.zeros((len(b),len(c)))\n",
    "\n",
    "for b_i in range(len(b)):\n",
    "    for c_i in range(len(c)):\n",
    "        M[b_i,c_i] = quadeq(a, b[b_i], c[c_i])[0]\n",
    "\n",
    "\n",
    "plt.imshow(M, extent=[ c[0],c[-1], b[0],b[-1] ], interpolation='nearest')\n",
    "plt.xlabel('c')\n",
    "plt.ylabel('b')\n",
    "plt.colorbar()\n",
    "plt.title('a=1')\n",
    "plt.show()\n",
    "        "
   ],
   "id": "e09eb6a7a5600f0b",
   "outputs": [
    {
     "name": "stderr",
     "output_type": "stream",
     "text": [
      "/var/folders/0q/nbd1lr096t5c104v09qnvg0c0000gn/T/ipykernel_5217/289289848.py:10: ComplexWarning: Casting complex values to real discards the imaginary part\n",
      "  out[0] = (-b + scimath.sqrt(b**2-4*a*c)) / (2*a)\n",
      "/var/folders/0q/nbd1lr096t5c104v09qnvg0c0000gn/T/ipykernel_5217/289289848.py:11: ComplexWarning: Casting complex values to real discards the imaginary part\n",
      "  out[1] = (-b + scimath.sqrt(b**2-4*a*c)) / (2*a)\n"
     ]
    },
    {
     "data": {
      "text/plain": [
       "<Figure size 640x480 with 2 Axes>"
      ],
      "image/png": "[encoded data removed]"
     },
     "metadata": {},
     "output_type": "display_data"
    }
   ],
   "execution_count": 42
  },
  {
   "metadata": {
    "ExecuteTime": {
     "end_time": "2024-10-01T08:21:56.486932Z",
     "start_time": "2024-10-01T08:21:56.480231Z"
    }
   },
   "cell_type": "code",
   "source": [
    "print(1j)\n",
    "print(scimath.sqrt(-1))\n",
    "print(np.sqrt(-1, dtype='complex'))\n",
    "print(sym.I)"
   ],
   "id": "6384f4db4f835a8e",
   "outputs": [
    {
     "name": "stdout",
     "output_type": "stream",
     "text": [
      "1j\n",
      "1j\n",
      "1j\n",
      "I\n"
     ]
    }
   ],
   "execution_count": 54
  },
  {
   "metadata": {
    "ExecuteTime": {
     "end_time": "2024-10-01T08:26:47.060846Z",
     "start_time": "2024-10-01T08:26:47.055373Z"
    }
   },
   "cell_type": "code",
   "source": [
    "z1 = 4 + 5j\n",
    "z2 = 3 + 2j"
   ],
   "id": "1ee5818ee2275e1f",
   "outputs": [],
   "execution_count": 61
  },
  {
   "metadata": {
    "ExecuteTime": {
     "end_time": "2024-10-01T08:28:00.877192Z",
     "start_time": "2024-10-01T08:28:00.871416Z"
    }
   },
   "cell_type": "code",
   "source": "np.real(z1 - z2)",
   "id": "295931d2a88be365",
   "outputs": [
    {
     "data": {
      "text/plain": [
       "1.0"
      ]
     },
     "execution_count": 63,
     "metadata": {},
     "output_type": "execute_result"
    }
   ],
   "execution_count": 63
  },
  {
   "metadata": {
    "ExecuteTime": {
     "end_time": "2024-10-01T08:28:16.106290Z",
     "start_time": "2024-10-01T08:28:16.102662Z"
    }
   },
   "cell_type": "code",
   "source": "np.imag(z1 - z2)",
   "id": "dfdf7b316927819",
   "outputs": [
    {
     "data": {
      "text/plain": [
       "3.0"
      ]
     },
     "execution_count": 64,
     "metadata": {},
     "output_type": "execute_result"
    }
   ],
   "execution_count": 64
  },
  {
   "metadata": {},
   "cell_type": "markdown",
   "source": [
    "---\n",
    "### Exercise"
   ],
   "id": "52c2e05c343a761e"
  },
  {
   "metadata": {
    "ExecuteTime": {
     "end_time": "2024-10-01T08:49:43.726661Z",
     "start_time": "2024-10-01T08:49:43.709628Z"
    }
   },
   "cell_type": "code",
   "source": "5+6j * 4-3j",
   "id": "9269d10576a38d7e",
   "outputs": [
    {
     "data": {
      "text/plain": [
       "(5+21j)"
      ]
     },
     "execution_count": 65,
     "metadata": {},
     "output_type": "execute_result"
    }
   ],
   "execution_count": 65
  },
  {
   "metadata": {},
   "cell_type": "code",
   "outputs": [],
   "execution_count": null,
   "source": "",
   "id": "27985c3a467d05e7"
  }
 ],
 "metadata": {
  "kernelspec": {
   "display_name": "Python 3",
   "language": "python",
   "name": "python3"
  },
  "language_info": {
   "codemirror_mode": {
    "name": "ipython",
    "version": 2
   },
   "file_extension": ".py",
   "mimetype": "text/x-python",
   "name": "python",
   "nbconvert_exporter": "python",
   "pygments_lexer": "ipython2",
   "version": "2.7.6"
  }
 },
 "nbformat": 4,
 "nbformat_minor": 5
}
