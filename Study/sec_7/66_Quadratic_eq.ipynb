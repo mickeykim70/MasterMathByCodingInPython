{
 "cells": [
  {
   "cell_type": "code",
   "id": "initial_id",
   "metadata": {
    "collapsed": true,
    "ExecuteTime": {
     "end_time": "2024-10-01T11:34:34.426808Z",
     "start_time": "2024-10-01T11:34:34.401575Z"
    }
   },
   "source": [
    "import numpy as np\n",
    "import scipy as sp\n",
    "import numpy.lib.scimath as scimath\n",
    "from contourpy.types import code_dtype\n",
    "from numpy import dtype\n"
   ],
   "outputs": [],
   "execution_count": 2
  },
  {
   "metadata": {
    "ExecuteTime": {
     "end_time": "2024-10-01T11:34:36.006101Z",
     "start_time": "2024-10-01T11:34:36.000017Z"
    }
   },
   "cell_type": "code",
   "source": [
    "a = 2\n",
    "b = 7\n",
    "c = 5\n",
    "\n",
    "quadeqP = ( -b + scimath.sqrt(b**2-4*a*c) )/(2*a)\n",
    "quadeqN = ( -b - scimath.sqrt(b**2-4*a*c) )/(2*a)\n",
    "\n",
    "print(quadeqP, quadeqN)"
   ],
   "id": "c064c751622854f5",
   "outputs": [
    {
     "name": "stdout",
     "output_type": "stream",
     "text": [
      "-1.0 -2.5\n"
     ]
    }
   ],
   "execution_count": 3
  },
  {
   "metadata": {},
   "cell_type": "markdown",
   "source": [
    "---\n",
    "#### Exercise:<br>\n",
    "Compute quadratic eq for:<br>\n",
    "> a = 1<br>\n",
    "> b = { -5, -4, ... ,5 }<br>\n",
    "> c = { -2, -1, ... ,10 }<br>\n",
    "> \n",
    "and graph"
   ],
   "id": "562453102007c851"
  },
  {
   "metadata": {
    "ExecuteTime": {
     "end_time": "2024-10-01T11:34:44.576183Z",
     "start_time": "2024-10-01T11:34:43.620336Z"
    }
   },
   "cell_type": "code",
   "source": [
    "import numpy as np\n",
    "import matplotlib.pyplot as plt\n",
    "import numpy.lib.scimath as scimath\n",
    "import sympy as sym"
   ],
   "id": "1285ed28902a53a6",
   "outputs": [],
   "execution_count": 4
  },
  {
   "metadata": {
    "ExecuteTime": {
     "end_time": "2024-10-01T11:34:47.347012Z",
     "start_time": "2024-10-01T11:34:47.264377Z"
    }
   },
   "cell_type": "code",
   "source": [
    "# Define constants and variables\n",
    "a = 1\n",
    "b = np.arange(-5, 6, 1)\n",
    "c = np.arange(-2, 11, 1)\n",
    "\n",
    "def quadeq(a, b, c):\n",
    "    # initialize\n",
    "    out = np.zeros(2, dtype=complex)\n",
    "    # compute\n",
    "    out[0] = (-b - scimath.sqrt(b**2-4*a*c)) / (2*a)\n",
    "    out[1] = (-b + scimath.sqrt(b**2-4*a*c)) / (2*a)\n",
    "    return out\n",
    "\n",
    "M = np.zeros( (len(b),len(c)), dtype=complex )\n",
    "\n",
    "for b_i in range(len(b)):\n",
    "    for c_i in range(len(c)):\n",
    "        M[b_i,c_i] = quadeq(a, b[b_i], c[c_i])[0]\n",
    "\n",
    "plt.subplot(1, 3, 1)\n",
    "plt.imshow(np.real(M), extent=[ c[0],c[-1], b[0],b[-1] ])\n",
    "# plt.axis('off')\n",
    "plt.title('real part')\n",
    "\n",
    "plt.subplot(1, 3, 2)\n",
    "plt.imshow(np.imag(M), extent=[ c[0],c[-1], b[0],b[-1] ])\n",
    "plt.axis('off')\n",
    "plt.title('imag part')\n",
    "\n",
    "plt.subplot(1, 3, 3)\n",
    "plt.imshow(np.absolute(M), extent=[ c[0],c[-1], b[0],b[-1] ])\n",
    "plt.axis('off')\n",
    "plt.title('magnitude')\n",
    "plt.show()\n",
    "        "
   ],
   "id": "e09eb6a7a5600f0b",
   "outputs": [
    {
     "data": {
      "text/plain": [
       "<Figure size 640x480 with 3 Axes>"
      ],
      "image/png": "[encoded data removed]"
     },
     "metadata": {},
     "output_type": "display_data"
    }
   ],
   "execution_count": 6
  },
  {
   "metadata": {
    "ExecuteTime": {
     "end_time": "2024-10-01T11:34:52.935520Z",
     "start_time": "2024-10-01T11:34:52.931739Z"
    }
   },
   "cell_type": "code",
   "source": [
    "print(1j)\n",
    "print(scimath.sqrt(-1))\n",
    "print(np.sqrt(-1, dtype='complex'))\n",
    "print(sym.I)"
   ],
   "id": "6384f4db4f835a8e",
   "outputs": [
    {
     "name": "stdout",
     "output_type": "stream",
     "text": [
      "1j\n",
      "1j\n",
      "1j\n",
      "I\n"
     ]
    }
   ],
   "execution_count": 7
  },
  {
   "metadata": {
    "ExecuteTime": {
     "end_time": "2024-10-01T11:34:55.652731Z",
     "start_time": "2024-10-01T11:34:55.649301Z"
    }
   },
   "cell_type": "code",
   "source": [
    "z1 = 4 + 5j\n",
    "z2 = 3 + 2j"
   ],
   "id": "1ee5818ee2275e1f",
   "outputs": [],
   "execution_count": 8
  },
  {
   "metadata": {
    "ExecuteTime": {
     "end_time": "2024-10-01T11:34:56.950328Z",
     "start_time": "2024-10-01T11:34:56.945962Z"
    }
   },
   "cell_type": "code",
   "source": "np.real(z1 - z2)",
   "id": "295931d2a88be365",
   "outputs": [
    {
     "data": {
      "text/plain": [
       "1.0"
      ]
     },
     "execution_count": 9,
     "metadata": {},
     "output_type": "execute_result"
    }
   ],
   "execution_count": 9
  },
  {
   "metadata": {
    "ExecuteTime": {
     "end_time": "2024-10-01T11:34:58.345929Z",
     "start_time": "2024-10-01T11:34:58.341421Z"
    }
   },
   "cell_type": "code",
   "source": "np.imag(z1 - z2)",
   "id": "dfdf7b316927819",
   "outputs": [
    {
     "data": {
      "text/plain": [
       "3.0"
      ]
     },
     "execution_count": 10,
     "metadata": {},
     "output_type": "execute_result"
    }
   ],
   "execution_count": 10
  },
  {
   "metadata": {},
   "cell_type": "markdown",
   "source": [
    "---\n",
    "### Exercise"
   ],
   "id": "52c2e05c343a761e"
  },
  {
   "metadata": {
    "ExecuteTime": {
     "end_time": "2024-10-01T09:29:05.543218Z",
     "start_time": "2024-10-01T09:29:05.540628Z"
    }
   },
   "cell_type": "code",
   "source": "5+6j * 4-3j",
   "id": "9269d10576a38d7e",
   "outputs": [
    {
     "data": {
      "text/plain": [
       "(5+21j)"
      ]
     },
     "execution_count": 94,
     "metadata": {},
     "output_type": "execute_result"
    }
   ],
   "execution_count": 94
  },
  {
   "metadata": {
    "ExecuteTime": {
     "end_time": "2024-10-01T09:29:05.552050Z",
     "start_time": "2024-10-01T09:29:05.550635Z"
    }
   },
   "cell_type": "code",
   "source": "",
   "id": "27985c3a467d05e7",
   "outputs": [],
   "execution_count": null
  }
 ],
 "metadata": {
  "kernelspec": {
   "display_name": "Python 3",
   "language": "python",
   "name": "python3"
  },
  "language_info": {
   "codemirror_mode": {
    "name": "ipython",
    "version": 2
   },
   "file_extension": ".py",
   "mimetype": "text/x-python",
   "name": "python",
   "nbconvert_exporter": "python",
   "pygments_lexer": "ipython2",
   "version": "2.7.6"
  }
 },
 "nbformat": 4,
 "nbformat_minor": 5
}
