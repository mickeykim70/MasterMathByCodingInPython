{
 "cells": [
  {
   "metadata": {},
   "cell_type": "markdown",
   "source": [
    "#### summation\n",
    "## $$\\sum_{i=1}^{k} a_n = a_1 + a_2 + \\dots + a_n$$\n",
    "#### production\n",
    "## $$\\displaystyle\\prod_{i=1}^{n} a_n = a_1 \\times a_2 \\times \\dots \\times a_n$$\n",
    "#### cumulative summation\n",
    "## $$\n",
    "y_k = \\displaystyle\\sum_{i=1}^{k} a_i = \n",
    "\\left\\{\n",
    "\\begin{aligned}\n",
    "y_1 &= a_1 \\\\\n",
    "y_2 &= a_1 + a_2 \\\\\n",
    "y_3 &= a_1 + a_2 + a_3 \\\\\n",
    "&\\vdots \\\\\n",
    "y_k &= a_1 + a_2 + \\dots + a_k\n",
    "\\end{aligned}\n",
    "\\right.\n",
    "$$\n",
    "\n"
   ],
   "id": "cfee28b6c867e93b"
  },
  {
   "metadata": {
    "ExecuteTime": {
     "end_time": "2024-10-01T03:14:39.437519Z",
     "start_time": "2024-10-01T03:14:39.433189Z"
    }
   },
   "cell_type": "code",
   "source": [
    "import numpy as np\n",
    "import matplotlib.pyplot as plt"
   ],
   "id": "cfc970f15817c93d",
   "outputs": [],
   "execution_count": 5
  },
  {
   "metadata": {
    "ExecuteTime": {
     "end_time": "2024-10-01T03:10:52.623528Z",
     "start_time": "2024-10-01T03:10:52.611191Z"
    }
   },
   "cell_type": "code",
   "source": [
    "lst = [1, 3, 4, 1, 6]\n",
    "print( sum(lst) )\n",
    "print( np.sum(lst) )"
   ],
   "id": "9a8887bd97afbd15",
   "outputs": [
    {
     "name": "stdout",
     "output_type": "stream",
     "text": [
      "15\n",
      "15\n"
     ]
    }
   ],
   "execution_count": 2
  },
  {
   "metadata": {
    "ExecuteTime": {
     "end_time": "2024-10-01T03:11:21.574720Z",
     "start_time": "2024-10-01T03:11:21.528703Z"
    }
   },
   "cell_type": "code",
   "source": [
    "# production\n",
    "np.prod(lst)"
   ],
   "id": "cdb4cc578bc35da7",
   "outputs": [
    {
     "data": {
      "text/plain": [
       "72"
      ]
     },
     "execution_count": 3,
     "metadata": {},
     "output_type": "execute_result"
    }
   ],
   "execution_count": 3
  },
  {
   "metadata": {
    "ExecuteTime": {
     "end_time": "2024-10-01T03:16:52.408184Z",
     "start_time": "2024-10-01T03:16:52.344458Z"
    }
   },
   "cell_type": "code",
   "source": [
    "# Cumulative Sum\n",
    "cum_sum = np.cumsum(lst)\n",
    "print(cum_sum)\n",
    "\n",
    "plt.plot(lst, 'rs-')\n",
    "plt.plot(cum_sum, 'go-')\n",
    "\n",
    "plt.show()"
   ],
   "id": "7b5222a3d3807ee8",
   "outputs": [
    {
     "name": "stdout",
     "output_type": "stream",
     "text": [
      "[ 1  4  8  9 15]\n"
     ]
    },
    {
     "data": {
      "text/plain": [
       "<Figure size 640x480 with 1 Axes>"
      ],
      "image/png": "[encoded data removed]"
     },
     "metadata": {},
     "output_type": "display_data"
    }
   ],
   "execution_count": 9
  },
  {
   "metadata": {},
   "cell_type": "markdown",
   "source": [
    "---\n",
    "### Exercise\n",
    "Find out which is true?"
   ],
   "id": "d2ea2d64c2d82a7"
  },
  {
   "metadata": {},
   "cell_type": "markdown",
   "source": [
    "#### $$ a = \\left\\{1, 2, 3, 4, 5\\right\\} $$\n",
    "#### $$ \n",
    "\\left. 1 \\right) \\quad \n",
    "\\frac{\\sum a}{\\sum a^2} = \n",
    "\\frac{1}{\\sum a}\n",
    "$$\n",
    "#### $$\n",
    "\\left. 2 \\right) \\quad \n",
    "\\frac{\\prod a}{\\prod a^2} = \n",
    "\\frac{1}{\\prod a}\n",
    "$$"
   ],
   "id": "18c2e3970f773602"
  },
  {
   "metadata": {},
   "cell_type": "markdown",
   "source": "",
   "id": "21b5ba8d73509ff"
  },
  {
   "metadata": {
    "ExecuteTime": {
     "end_time": "2024-10-01T03:51:34.300058Z",
     "start_time": "2024-10-01T03:51:34.287223Z"
    }
   },
   "cell_type": "code",
   "source": [
    "# 1 Summation\n",
    "a = np.array([1, 2, 3, 4, 5])"
   ],
   "id": "d014af6663063440",
   "outputs": [],
   "execution_count": 11
  },
  {
   "metadata": {
    "ExecuteTime": {
     "end_time": "2024-10-01T03:52:38.056671Z",
     "start_time": "2024-10-01T03:52:38.050908Z"
    }
   },
   "cell_type": "code",
   "source": [
    "left_res1 = sum(a) / sum(a**2)\n",
    "right_res1 = 1 / sum(a)\n",
    "print(left_res1, right_res1)"
   ],
   "id": "cfe44bad2febf36f",
   "outputs": [
    {
     "name": "stdout",
     "output_type": "stream",
     "text": [
      "0.2727272727272727 0.06666666666666667\n"
     ]
    }
   ],
   "execution_count": 13
  },
  {
   "metadata": {
    "ExecuteTime": {
     "end_time": "2024-10-01T03:53:54.192468Z",
     "start_time": "2024-10-01T03:53:54.173438Z"
    }
   },
   "cell_type": "code",
   "source": [
    "# 2 Production\n",
    "left_res2 = np.prod(a) / np.prod(a ** 2)\n",
    "right_res2 = 1 / np.prod(a)\n",
    "print(left_res2, right_res2)"
   ],
   "id": "c6f7c560f3f63e21",
   "outputs": [
    {
     "name": "stdout",
     "output_type": "stream",
     "text": [
      "0.008333333333333333 0.008333333333333333\n"
     ]
    }
   ],
   "execution_count": 14
  },
  {
   "metadata": {},
   "cell_type": "code",
   "outputs": [],
   "execution_count": null,
   "source": "",
   "id": "f53e7eea71a083fb"
  }
 ],
 "metadata": {
  "kernelspec": {
   "display_name": "Python 3",
   "language": "python",
   "name": "python3"
  },
  "language_info": {
   "codemirror_mode": {
    "name": "ipython",
    "version": 2
   },
   "file_extension": ".py",
   "mimetype": "text/x-python",
   "name": "python",
   "nbconvert_exporter": "python",
   "pygments_lexer": "ipython2",
   "version": "2.7.6"
  }
 },
 "nbformat": 4,
 "nbformat_minor": 5
}
