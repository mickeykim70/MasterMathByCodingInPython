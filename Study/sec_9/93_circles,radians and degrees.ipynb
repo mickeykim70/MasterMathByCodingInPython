{
 "cells": [
  {
   "cell_type": "code",
   "id": "initial_id",
   "metadata": {
    "collapsed": true,
    "ExecuteTime": {
     "end_time": "2024-10-06T13:19:05.278350Z",
     "start_time": "2024-10-06T13:19:05.275257Z"
    }
   },
   "source": [
    "import numpy as np\n",
    "import matplotlib.pyplot as plt"
   ],
   "outputs": [],
   "execution_count": 18
  },
  {
   "metadata": {
    "ExecuteTime": {
     "end_time": "2024-10-06T13:19:05.285180Z",
     "start_time": "2024-10-06T13:19:05.282495Z"
    }
   },
   "cell_type": "code",
   "source": [
    "deg = 1805\n",
    "rad = (deg * np.pi/180) % (2*np.pi)\n",
    "rad2 = np.deg2rad(deg)%(2*np.pi)\n",
    "\n",
    "deg = (180*rad/np.pi) % (360)\n",
    "deg2 = np.rad2deg(rad)"
   ],
   "id": "59dcaa28c6220abe",
   "outputs": [],
   "execution_count": 19
  },
  {
   "metadata": {},
   "cell_type": "markdown",
   "source": [
    "---\n",
    "#### Exercise\n",
    "define function that convert angle to plot !"
   ],
   "id": "2a50c0f39aec3f04"
  },
  {
   "metadata": {
    "ExecuteTime": {
     "end_time": "2024-10-06T13:28:07.829671Z",
     "start_time": "2024-10-06T13:28:07.826041Z"
    }
   },
   "cell_type": "code",
   "source": [
    "def angle_convert_plot():\n",
    "    \n",
    "    # Get the inputs from the user\n",
    "    angs = eval(input('What angle to convert?'))\n",
    "    unit = input('Which unit did you input (radian or degree)?')\n",
    "    \n",
    "    if unit[0].lower()=='r':\n",
    "        rad = angs\n",
    "        deg = np.rad2deg(rad)\n",
    "    elif unit[0].lower()=='d':\n",
    "        deg = angs\n",
    "        rad = np.deg2rad(deg)\n",
    "    else:\n",
    "        raise ValueError(\"Unknown unit!\")\n",
    "        \n",
    "    # Convert to < 360\n",
    "    deg = deg % 360\n",
    "    rad = rad % (2*np.pi)\n",
    "    \n",
    "    \n",
    "    # Make the graph\n",
    "    plt.plot( [0,1], [0,0],'r-')    \n",
    "    plt.plot( [0,np.cos(rad)], [0,np.sin(rad)], 'r-')\n",
    "    \n",
    "    plt.grid()\n",
    "    plt.axis('square')\n",
    "    plt.xlim(-1,1)\n",
    "    plt.ylim(-1,1)\n",
    "\n",
    "    plt.title(f\"Angle of {deg:.2f}$^o$ or {rad:.2f} rad.\")    \n",
    "    plt.show()  "
   ],
   "id": "dc3019fe65a02b06",
   "outputs": [],
   "execution_count": 42
  },
  {
   "metadata": {},
   "cell_type": "markdown",
   "source": "",
   "id": "36abfd3cfbf2fe2"
  },
  {
   "metadata": {
    "ExecuteTime": {
     "end_time": "2024-10-06T13:27:53.347775Z",
     "start_time": "2024-10-06T13:27:47.000020Z"
    }
   },
   "cell_type": "code",
   "source": "angle_convert_plot()",
   "id": "8a23be3e7e740263",
   "outputs": [
    {
     "data": {
      "text/plain": [
       "<Figure size 640x480 with 1 Axes>"
      ],
      "image/png": "[encoded data removed]"
     },
     "metadata": {},
     "output_type": "display_data"
    }
   ],
   "execution_count": 41
  },
  {
   "metadata": {
    "ExecuteTime": {
     "end_time": "2024-10-06T13:23:35.972773Z",
     "start_time": "2024-10-06T13:23:35.966485Z"
    }
   },
   "cell_type": "code",
   "source": "print(np.rad2deg(0.5*np.pi))",
   "id": "19bfe4db518fdfcc",
   "outputs": [
    {
     "name": "stdout",
     "output_type": "stream",
     "text": [
      "90.0\n"
     ]
    }
   ],
   "execution_count": 28
  },
  {
   "metadata": {},
   "cell_type": "code",
   "outputs": [],
   "execution_count": null,
   "source": "",
   "id": "8d0fc68c544bc593"
  }
 ],
 "metadata": {
  "kernelspec": {
   "display_name": "Python 3",
   "language": "python",
   "name": "python3"
  },
  "language_info": {
   "codemirror_mode": {
    "name": "ipython",
    "version": 2
   },
   "file_extension": ".py",
   "mimetype": "text/x-python",
   "name": "python",
   "nbconvert_exporter": "python",
   "pygments_lexer": "ipython2",
   "version": "2.7.6"
  }
 },
 "nbformat": 4,
 "nbformat_minor": 5
}
