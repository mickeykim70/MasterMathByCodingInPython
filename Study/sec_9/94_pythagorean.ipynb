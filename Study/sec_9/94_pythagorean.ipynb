{
 "cells": [
  {
   "cell_type": "code",
   "id": "initial_id",
   "metadata": {
    "collapsed": true,
    "ExecuteTime": {
     "end_time": "2024-10-06T13:57:13.545976Z",
     "start_time": "2024-10-06T13:57:13.180287Z"
    }
   },
   "source": [
    "import numpy as np\n",
    "import matplotlib.pyplot as plt"
   ],
   "outputs": [],
   "execution_count": 1
  },
  {
   "metadata": {
    "ExecuteTime": {
     "end_time": "2024-10-06T14:17:57.675395Z",
     "start_time": "2024-10-06T14:17:57.649958Z"
    }
   },
   "cell_type": "code",
   "source": [
    "a = 8.\n",
    "b = 3.\n",
    "\n",
    "c = np.sqrt(a**2 + b**2)\n",
    "\n",
    "# draw the triangle\n",
    "plt.plot([0,a], [0,0], 'k')\n",
    "plt.plot([0,0], [0,b], 'k')\n",
    "plt.plot([0,a], [b,0], 'k')\n",
    "\n",
    "plt.plot([0.3,0.3], [0.0,0.3], 'k')\n",
    "plt.plot([0.0,0.3], [0.3,0.3], 'k')\n",
    "\n",
    "\n",
    "plt.text(a/3, -.4, f'{a=}', fontsize=12)\n",
    "plt.text(.1, b/3, f'{b=}', fontsize=12)\n",
    "plt.text(a/2, b/2, f'{c=}', fontsize=12)\n",
    "\n",
    "plt.axis('square')\n",
    "axlim = np.max( (a,b)) + 0.5\n",
    "plt.axis([-.5,axlim,-.5,axlim])\n",
    "plt.axis('off')\n",
    "plt.show()"
   ],
   "id": "f0e4dc8e90cb885b",
   "outputs": [
    {
     "data": {
      "text/plain": [
       "<Figure size 640x480 with 1 Axes>"
      ],
      "image/png": "[encoded data removed]"
     },
     "metadata": {},
     "output_type": "display_data"
    }
   ],
   "execution_count": 32
  },
  {
   "metadata": {},
   "cell_type": "markdown",
   "source": [
    "---\n",
    "Exercise"
   ],
   "id": "514f4a69c9077e94"
  },
  {
   "metadata": {
    "ExecuteTime": {
     "end_time": "2024-10-06T14:25:01.024695Z",
     "start_time": "2024-10-06T14:25:01.021635Z"
    }
   },
   "cell_type": "code",
   "source": [
    "z = 3 + 4j  # Complex number\n",
    "mag1 = np.sqrt( z.real**2 + z.imag**2 )\n",
    "mag2 = abs(z)\n",
    "print(mag1, mag2)"
   ],
   "id": "516f70140f250125",
   "outputs": [
    {
     "name": "stdout",
     "output_type": "stream",
     "text": [
      "5.0 5.0\n"
     ]
    }
   ],
   "execution_count": 41
  },
  {
   "metadata": {
    "jupyter": {
     "is_executing": true
    }
   },
   "cell_type": "code",
   "source": [
    "ang1 = np.arctan( z.imag / z.real )\n",
    "ang2 = np.arctan2( z.imag, z.real )\n",
    "ang3 = np.angle( z )\n",
    "print(ang1, ang2, ang3)"
   ],
   "id": "5397b1f3ef112cf2",
   "outputs": [],
   "execution_count": null
  },
  {
   "metadata": {
    "ExecuteTime": {
     "end_time": "2024-10-06T14:24:27.623674Z",
     "start_time": "2024-10-06T14:24:27.621108Z"
    }
   },
   "cell_type": "code",
   "source": "",
   "id": "8d46291be84f8626",
   "outputs": [],
   "execution_count": 39
  },
  {
   "metadata": {
    "ExecuteTime": {
     "end_time": "2024-10-06T14:24:34.897255Z",
     "start_time": "2024-10-06T14:24:34.894149Z"
    }
   },
   "cell_type": "code",
   "source": "",
   "id": "b25e19887de161e8",
   "outputs": [
    {
     "name": "stdout",
     "output_type": "stream",
     "text": [
      "0.9272952180016122 0.9272952180016122\n"
     ]
    }
   ],
   "execution_count": 40
  },
  {
   "metadata": {},
   "cell_type": "code",
   "outputs": [],
   "execution_count": null,
   "source": "",
   "id": "1414c602419eb8f7"
  }
 ],
 "metadata": {
  "kernelspec": {
   "display_name": "Python 3",
   "language": "python",
   "name": "python3"
  },
  "language_info": {
   "codemirror_mode": {
    "name": "ipython",
    "version": 2
   },
   "file_extension": ".py",
   "mimetype": "text/x-python",
   "name": "python",
   "nbconvert_exporter": "python",
   "pygments_lexer": "ipython2",
   "version": "2.7.6"
  }
 },
 "nbformat": 4,
 "nbformat_minor": 5
}
